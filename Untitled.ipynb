{
 "cells": [
  {
   "cell_type": "code",
   "execution_count": 2,
   "metadata": {
    "collapsed": true
   },
   "outputs": [],
   "source": [
    "from sympy import init_printing"
   ]
  },
  {
   "cell_type": "code",
   "execution_count": 1,
   "metadata": {},
   "outputs": [],
   "source": [
    "import cylinder"
   ]
  },
  {
   "cell_type": "code",
   "execution_count": 3,
   "metadata": {
    "collapsed": true
   },
   "outputs": [],
   "source": [
    "import mechanism"
   ]
  },
  {
   "cell_type": "code",
   "execution_count": 4,
   "metadata": {
    "collapsed": true
   },
   "outputs": [],
   "source": [
    "d_l = 0.5\n",
    "R = 0.01\n",
    "rho = 2700"
   ]
  },
  {
   "cell_type": "code",
   "execution_count": 5,
   "metadata": {
    "collapsed": true
   },
   "outputs": [],
   "source": [
    "cylinder_1 = cylinder.Cylinder(R, d_l, rho)"
   ]
  },
  {
   "cell_type": "code",
   "execution_count": 6,
   "metadata": {
    "collapsed": true
   },
   "outputs": [],
   "source": [
    "pendulum = mechanism.Mechanism()"
   ]
  },
  {
   "cell_type": "code",
   "execution_count": 7,
   "metadata": {},
   "outputs": [
    {
     "data": {
      "text/plain": [
       "Matrix([\n",
       "[ 2*r_i_1,1(t) - 2*r_j_1,1(t),          0,          0,        0,                u_1,1(t),                v_1,1(t)],\n",
       "[ 2*r_i_1,2(t) - 2*r_j_1,2(t),          0,          0,        0,                u_1,2(t),                v_1,2(t)],\n",
       "[ 2*r_i_1,3(t) - 2*r_j_1,3(t),          0,          0,        0,                u_1,3(t),                v_1,3(t)],\n",
       "[-2*r_i_1,1(t) + 2*r_j_1,1(t),          0,          0,        0,               -u_1,1(t),               -v_1,1(t)],\n",
       "[-2*r_i_1,2(t) + 2*r_j_1,2(t),          0,          0,        0,               -u_1,2(t),               -v_1,2(t)],\n",
       "[-2*r_i_1,3(t) + 2*r_j_1,3(t),          0,          0,        0,               -u_1,3(t),               -v_1,3(t)],\n",
       "[                           0, 2*u_1,1(t),          0, v_1,1(t), r_i_1,1(t) - r_j_1,1(t),                       0],\n",
       "[                           0, 2*u_1,2(t),          0, v_1,2(t), r_i_1,2(t) - r_j_1,2(t),                       0],\n",
       "[                           0, 2*u_1,3(t),          0, v_1,3(t), r_i_1,3(t) - r_j_1,3(t),                       0],\n",
       "[                           0,          0, 2*v_1,1(t), u_1,1(t),                       0, r_i_1,1(t) - r_j_1,1(t)],\n",
       "[                           0,          0, 2*v_1,2(t), u_1,2(t),                       0, r_i_1,2(t) - r_j_1,2(t)],\n",
       "[                           0,          0, 2*v_1,3(t), u_1,3(t),                       0, r_i_1,3(t) - r_j_1,3(t)]])"
      ]
     },
     "execution_count": 7,
     "metadata": {},
     "output_type": "execute_result"
    }
   ],
   "source": [
    "mechanism.phi_r"
   ]
  },
  {
   "cell_type": "code",
   "execution_count": 8,
   "metadata": {
    "collapsed": true
   },
   "outputs": [],
   "source": [
    "cylinder_2 = cylinder.Cylinder(R, d_l, rho)"
   ]
  },
  {
   "cell_type": "code",
   "execution_count": 9,
   "metadata": {},
   "outputs": [
    {
     "ename": "AttributeError",
     "evalue": "'Mechanism' object has no attribute 'Mechanism'",
     "output_type": "error",
     "traceback": [
      "\u001b[1;31m---------------------------------------------------------------------------\u001b[0m",
      "\u001b[1;31mAttributeError\u001b[0m                            Traceback (most recent call last)",
      "\u001b[1;32m<ipython-input-9-108d236d83af>\u001b[0m in \u001b[0;36m<module>\u001b[1;34m()\u001b[0m\n\u001b[1;32m----> 1\u001b[1;33m \u001b[0mmechanism_2\u001b[0m \u001b[1;33m=\u001b[0m \u001b[0mmechanism\u001b[0m\u001b[1;33m.\u001b[0m\u001b[0mMechanism\u001b[0m\u001b[1;33m(\u001b[0m\u001b[1;33m)\u001b[0m\u001b[1;33m\u001b[0m\u001b[0m\n\u001b[0m",
      "\u001b[1;31mAttributeError\u001b[0m: 'Mechanism' object has no attribute 'Mechanism'"
     ]
    }
   ],
   "source": [
    "mechanism_2 = mechanism.Mechanism()"
   ]
  },
  {
   "cell_type": "code",
   "execution_count": null,
   "metadata": {
    "collapsed": true
   },
   "outputs": [],
   "source": [
    "pendulum_2 = mechanism.Mechanism()"
   ]
  }
 ],
 "metadata": {
  "kernelspec": {
   "display_name": "Python 3",
   "language": "python",
   "name": "python3"
  },
  "language_info": {
   "codemirror_mode": {
    "name": "ipython",
    "version": 3
   },
   "file_extension": ".py",
   "mimetype": "text/x-python",
   "name": "python",
   "nbconvert_exporter": "python",
   "pygments_lexer": "ipython3",
   "version": "3.6.3"
  }
 },
 "nbformat": 4,
 "nbformat_minor": 2
}
